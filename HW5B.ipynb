{
 "metadata": {
  "name": "HW5 - Part B - Solutions"
 },
 "nbformat": 3,
 "nbformat_minor": 0,
 "worksheets": [
  {
   "cells": [
    {
     "cell_type": "heading",
     "level": 1,
     "metadata": {},
     "source": "Stat 133: Homework 5 - Part B - Functions and Classes"
    },
    {
     "cell_type": "markdown",
     "metadata": {},
     "source": "The exercises below are adapted from Chapters 6 and 7 from following book (freely available online from within the campus):\n\n[A Primer on Scientific Programming with Python](http://link.springer.com/book/10.1007/978-3-642-18366-9/page/1)\n\nIf may be a good idea to browse through these chapters:\n\n* **Section 6.1.1**: Reading Data From Files\n* **Section 6.2.1 and 6.2.2**: Dictionaries\n* **Section 6.3.1**: Common Operations on Strings\n* **Section 6.5.1**: Writing Data to Files\n* **Section 7.1**: Simple Function Classes\n* **Section 7.2**: More Examples on Classes\n* **Section 7.3**: Special Methods"
    },
    {
     "cell_type": "heading",
     "level": 1,
     "metadata": {},
     "source": "Downloading the data"
    },
    {
     "cell_type": "markdown",
     "metadata": {},
     "source": "To download the textbook data and examples, please execute the following cells:"
    },
    {
     "cell_type": "code",
     "collapsed": false,
     "input": "%%bash\n\nEXAMPLES=examples.tar.gz\ncurl http://hplgit.github.io/scipro-primer/book-examples-3rd.tar.gz > $EXAMPLES\ntar xfvz $EXAMPLES 2&> /dev/null",
     "language": "python",
     "metadata": {},
     "outputs": [
      {
       "output_type": "stream",
       "stream": "stderr",
       "text": "  % Total    % Received % Xferd  Average Speed   Time    Time     Time  Current\n                                 Dload  Upload   Total   Spent    Left  Speed\n\r  0     0    0     0    0     0      0      0 --:--:-- --:--:-- --:--:--     0\r  0     0    0     0    0     0      0      0 --:--:--  0:00:01 --:--:--     0\r  2 3528k    2 78661    0     0  35562      0  0:01:41  0:00:02  0:01:39 42611\r  7 3528k    7  278k    0     0  88994      0  0:00:40  0:00:03  0:00:37   98k\r 13 3528k   13  482k    0     0   114k      0  0:00:30  0:00:04  0:00:26  125k\r 19 3528k   19  685k    0     0   131k      0  0:00:26  0:00:05  0:00:21  141k\r 25 3528k   25  887k    0     0   142k      0  0:00:24  0:00:06  0:00:18  183k\r 30 3528k   30 1092k    0     0   151k      0  0:00:23  0:00:07  0:00:16  203k\r 36 3528k   36 1292k    0     0   157k      0  0:00:22  0:00:08  0:00:14  202k\r 42 3528k   42 1495k    0     0   162k      0  0:00:21  0:00:09  0:00:12  202k\r 47 3528k   47 1658k    0     0   162k      0  0:00:21  0:00:10  0:00:11  194k\r 52 3528k   52 1866k    0     0   166k      0  0:00:21  0:00:11  0:00:10  195k\r 57 3528k   57 2042k    0     0   167k      0  0:00:21  0:00:12  0:00:09  190k\r 63 3528k   63 2246k    0     0   170k      0  0:00:20  0:00:13  0:00:07  190k\r 69 3528k   69 2447k    0     0   172k      0  0:00:20  0:00:14  0:00:06  190k\r 75 3528k   75 2650k    0     0   174k      0  0:00:20  0:00:15  0:00:05  198k\r 80 3528k   80 2855k    0     0   176k      0  0:00:20  0:00:16  0:00:04  197k\r 86 3528k   86 3058k    0     0   177k      0  0:00:19  0:00:17  0:00:02  203k\r 92 3528k   92 3262k    0     0   179k      0  0:00:19  0:00:18  0:00:01  203k\r 98 3528k   98 3461k    0     0   180k      0  0:00:19  0:00:19 --:--:--  202k\r100 3528k  100 3528k    0     0   180k      0  0:00:19  0:00:19 --:--:--  202k\n"
      }
     ],
     "prompt_number": 27
    },
    {
     "cell_type": "markdown",
     "metadata": {},
     "source": "The directory \"src\" has now been created in your home directory and contains all the book example files:"
    },
    {
     "cell_type": "code",
     "collapsed": false,
     "input": "!ls src",
     "language": "python",
     "metadata": {},
     "outputs": [
      {
       "output_type": "stream",
       "stream": "stdout",
       "text": "README     \u001b[34mclass\u001b[m\u001b[m      \u001b[34mdiscalc\u001b[m\u001b[m    \u001b[34mfuncif\u001b[m\u001b[m     \u001b[34mmisc\u001b[m\u001b[m       \u001b[34moo\u001b[m\u001b[m\r\n\u001b[34mappendix\u001b[m\u001b[m   \u001b[34mcython\u001b[m\u001b[m     \u001b[34mfiles\u001b[m\u001b[m      \u001b[34minput\u001b[m\u001b[m      \u001b[34mode1\u001b[m\u001b[m       \u001b[34mplot\u001b[m\u001b[m\r\n\u001b[34mbox_spring\u001b[m\u001b[m \u001b[34mdiffeq\u001b[m\u001b[m     \u001b[34mformulas\u001b[m\u001b[m   \u001b[34mlooplist\u001b[m\u001b[m   \u001b[34mode2\u001b[m\u001b[m       \u001b[34mrandom\u001b[m\u001b[m\r\n"
      }
     ],
     "prompt_number": 28
    },
    {
     "cell_type": "markdown",
     "metadata": {},
     "source": "###Exercice 1. *Read a two-column data file.*\nThe file src/files/xy.dat contains two columns of numbers, corresponding to x and y coordinates on a curve. The start of the file looks as this:"
    },
    {
     "cell_type": "code",
     "collapsed": false,
     "input": "!head -5 src/files/xy.dat",
     "language": "python",
     "metadata": {},
     "outputs": [
      {
       "output_type": "stream",
       "stream": "stdout",
       "text": "     -1.0000       -0.0000\r\n     -0.9933       -0.0087\r\n     -0.9867       -0.0179\r\n     -0.9800       -0.0274\r\n     -0.9733       -0.0374\r\n"
      }
     ],
     "prompt_number": 35
    },
    {
     "cell_type": "markdown",
     "metadata": {},
     "source": "In the cell below, make a program that reads the first column into a list x of float and the second column into a list y of floats. Use list comprehension instead of a for loop.\n\n**Hint:** The command my_string.split() returs a list of strings obtained from my_string by cutting my_string at the white spaces."
    },
    {
     "cell_type": "code",
     "collapsed": false,
     "input": "xy_data = open('src/files/xy.dat', 'r')\n\nlines = xy_data.readlines()\n\nx = [float(line.split()[0]) for line in lines]\ny = [float(line.split()[1]) for line in lines]",
     "language": "python",
     "metadata": {},
     "outputs": [],
     "prompt_number": 36
    },
    {
     "cell_type": "markdown",
     "metadata": {},
     "source": "To check you correctly extraded the list x and y, execute the cell below:"
    },
    {
     "cell_type": "code",
     "collapsed": false,
     "input": "print x[:5]\nprint y[:5]",
     "language": "python",
     "metadata": {},
     "outputs": [
      {
       "output_type": "stream",
       "stream": "stdout",
       "text": "[-1.0, -0.9933, -0.9867, -0.98, -0.9733]\n[-0.0, -0.0087, -0.0179, -0.0274, -0.0374]\n"
      }
     ],
     "prompt_number": 37
    },
    {
     "cell_type": "heading",
     "level": 1,
     "metadata": {},
     "source": "Graded Exercises"
    },
    {
     "cell_type": "markdown",
     "metadata": {},
     "source": "###Exercise 2. *Read a data file.*\nThe files density_water.dat and density_air.dat files in the folder\nsrc/files contain data about the density of water and air (resp.) for different temperatures. \n\nThe data files have some comment lines starting with # and some lines are blank. The rest of the lines contain density data: the temperature in the first column and the corresponding density in the second column.\n\nIn the cells below, write Bash commands to display the first lines of the two files:"
    },
    {
     "cell_type": "code",
     "collapsed": false,
     "input": "!head src/files/density_water.dat",
     "language": "python",
     "metadata": {},
     "outputs": [
      {
       "output_type": "stream",
       "stream": "stdout",
       "text": "# Density of air at different temperatures, at 1 atm pressure\r\n# Column 1: temperature in Celsius degrees\r\n# Column 2: density in kg/m^3 \r\n\r\n  0.0   999.8425\r\n  4.0   999.9750\r\n 15.0   999.1026\r\n 20.0   998.2071\r\n 25.0   997.0479\r\n 37.0   993.3316\r\n"
      }
     ],
     "prompt_number": 38
    },
    {
     "cell_type": "code",
     "collapsed": false,
     "input": "!head src/files/density_air.dat",
     "language": "python",
     "metadata": {},
     "outputs": [
      {
       "output_type": "stream",
       "stream": "stdout",
       "text": "# Density of air at different temperatures, at 1 atm pressure\r\n# Column 1: temperature in Celsius degrees\r\n# Column 2: density in kg/m^3 \r\n\r\n-10     1.341\r\n -5     1.316\r\n  0     1.293\r\n  5     1.269\r\n 10     1.247\r\n 15     1.225\r\n"
      }
     ],
     "prompt_number": 39
    },
    {
     "cell_type": "markdown",
     "metadata": {},
     "source": "Write the function <code>extract_columns(file_name)</code> in the cell below that takes the file name as argument and returns two lists of floats, x and y\n\n**Hint:** the return statement for your function should read\n<pre><code>return x, y</code></code>"
    },
    {
     "cell_type": "code",
     "collapsed": false,
     "input": "def extract_columns(file_name):\n    \n    xy_data = open(file_name, 'r')\n    lines = xy_data.readlines()\n        \n    x = [float(line.split()[0]) for line in lines if line[0] not in '\\n#']\n    y = [float(line.split()[1]) for line in lines if line[0] not in '\\n#']\n    return x,y",
     "language": "python",
     "metadata": {},
     "outputs": [],
     "prompt_number": 40
    },
    {
     "cell_type": "markdown",
     "metadata": {},
     "source": "To verify that your function works, execute the cell below: you should see two graphs appearing plotting the data for both files:"
    },
    {
     "cell_type": "code",
     "collapsed": false,
     "input": "%pylab inline  --no-import-all\nfrom pylab import *\n\ndef my_plot(name):\n    import matplotlib.pyplot as plt\n    file_name = 'src/files/density_' + name + '.dat' \n    temp, dens = extract_columns(file_name)\n\n    figure()\n    plot(temp, dens)\n    xlabel(name + ' temperature')\n    ylabel(name + ' density')\n    title('density versus temperature for ' + name)\n    show()\n    \nmy_plot('water')\nmy_plot('air')",
     "language": "python",
     "metadata": {},
     "outputs": [
      {
       "output_type": "stream",
       "stream": "stdout",
       "text": "Populating the interactive namespace from numpy and matplotlib\n"
      },
      {
       "metadata": {},
       "output_type": "display_data",
       "png": "[encoded data removed]",
       "text": "<matplotlib.figure.Figure at 0x10bc1a490>"
      },
      {
       "metadata": {},
       "output_type": "display_data",
       "png": "[encoded data removed]",
       "text": "<matplotlib.figure.Figure at 0x10bb56d50>"
      }
     ],
     "prompt_number": 41
    },
    {
     "cell_type": "markdown",
     "metadata": {},
     "source": "###Exercise 3. *Make a function class.*\nMake a class $F$ that implements the function\n\n$$f (x; a, w) = \\exp(\u2212ax) \\sin(wx),$$\n\nwhere $x$ is the function argument and $a$ and $w$ are parameters.\n\nA <code>value(x)</code> method computes values of $f$, while $a$ and $w$ are class attributes. Implement also the special functions **call** and **repr**.\n\nThe second special function should allow you to print the formula that will be computed by an instance of the class with the numerical parameters that have been used when creating the instance. For instance,\n<pre><code>\nf = F(a=2.3, w=0.1)\nprint f\n</code></pre>\nshould print the formula: exp(-2.3x)sin(0.1x)\n"
    },
    {
     "cell_type": "code",
     "collapsed": false,
     "input": "class F:\n    def __init__(self, a, w):\n        self.a, self.w = a, w\n         \n    def value(self, x):\n        return exp(-self.a*x)*sin(self.w*x)\n    \n    def __call__(self, x):\n        return self.value(x)\n    \n    def __repr__(self):\n        return \"exp(-%gx)sin(%gx)\" %(self.a, self.w)",
     "language": "python",
     "metadata": {},
     "outputs": [],
     "prompt_number": 42
    },
    {
     "cell_type": "markdown",
     "metadata": {},
     "source": "Test the class by executing the following cell:"
    },
    {
     "cell_type": "code",
     "collapsed": false,
     "input": "from math import *\nf = F(a=2.3, w=0.1)\n\nprint f.value(pi)\nprint f(pi)\nprint f",
     "language": "python",
     "metadata": {},
     "outputs": [
      {
       "output_type": "stream",
       "stream": "stdout",
       "text": "0.00022486235267\n0.00022486235267\nexp(-2.3x)sin(0.1x)\n"
      }
     ],
     "prompt_number": 43
    },
    {
     "cell_type": "markdown",
     "metadata": {},
     "source": "###Exercise 4. *Deduce a class implementation*\nIn the cell below, write a class Hello that behaves as illustrated in the following session:\n<pre><code>\n>>> a = Hello()\n>>> print a(\u2019students\u2019)\nHello, students!\n>>> print a\nHello, World!\n</code></pre>"
    },
    {
     "cell_type": "code",
     "collapsed": false,
     "input": "class Hello:\n    def __call__(self, a_string):\n        return 'Hello, ' + a_string + '!'\n    \n    def __repr__(self):\n        return 'Hello, World!'",
     "language": "python",
     "metadata": {},
     "outputs": [],
     "prompt_number": 44
    },
    {
     "cell_type": "markdown",
     "metadata": {},
     "source": "To test your code, execute the cell below:"
    },
    {
     "cell_type": "code",
     "collapsed": false,
     "input": "a = Hello()\nprint a('students')\nprint a",
     "language": "python",
     "metadata": {},
     "outputs": [
      {
       "output_type": "stream",
       "stream": "stdout",
       "text": "Hello, students!\nHello, World!\n"
      }
     ],
     "prompt_number": 45
    },
    {
     "cell_type": "markdown",
     "metadata": {},
     "source": "###Exercise 5. Classes representing geometric objects\nThe purpose of this exercise is to a create classes like class Circle from Chapter 7.2.3 for representing a rectangle with width $W$, height $H$, and lower left corner, given by the coordinate of a point in the plane $(x0,y0)$. Your rectangle class must \n\n* initialize its attributes in the init method\n* have a method area returning the rectangle area\n* have a method perimeter returing the rectangle perimeter\n"
    },
    {
     "cell_type": "code",
     "collapsed": false,
     "input": "class Rectangle:\n    def __init__(self, width, height, lower_left_corner):\n        self.width = width\n        self.height = height\n        self.lower_left_corner = lower_left_corner\n        \n    def area(self):\n        return self.width * self.height\n    \n    def perimeter(self):\n        return 2*(self.width + self.height)  ",
     "language": "python",
     "metadata": {},
     "outputs": [],
     "prompt_number": 46
    },
    {
     "cell_type": "markdown",
     "metadata": {},
     "source": "To test your code, execute the cell below:"
    },
    {
     "cell_type": "code",
     "collapsed": false,
     "input": "my_rectangle = Rectangle(width=3, height=2, lower_left_corner=(2,4))\n\nprint 'A rectangle of width 3 and height 2 has area ' + str(my_rectangle.area()) \\\n+ ' and perimeter ' + str(my_rectangle.perimeter())\n",
     "language": "python",
     "metadata": {},
     "outputs": [
      {
       "output_type": "stream",
       "stream": "stdout",
       "text": "A rectangle of width 3 and height 2 has area 6 and perimeter 10\n"
      }
     ],
     "prompt_number": 47
    }
   ],
   "metadata": {}
  }
 ]
}
