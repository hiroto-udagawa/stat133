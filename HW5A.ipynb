{
 "metadata": {
  "name": "HW5 - Part A"
 },
 "nbformat": 3,
 "nbformat_minor": 0,
 "worksheets": [
  {
   "cells": [
    {
     "cell_type": "heading",
     "level": 1,
     "metadata": {},
     "source": "Stat 133: Homework 5 - Part A - Looping and Branching\n"
    },
    {
     "cell_type": "markdown",
     "metadata": {},
     "source": "The exercises below are taken from Chapters 1 and 2 of following book (freely available online from within the campus):\n\n[A Primer on Scientific Programming with Python](http://link.springer.com/book/10.1007/978-3-642-18366-9/page/1)\n\nIf may be a good idea to browse through these chapters: Especially Chapter 1 sections 1.1, 1.2, 1.3, 1.4, and 1.5 and the whole Chapter 2. "
    },
    {
     "cell_type": "markdown",
     "metadata": {},
     "source": "## Chapter 1: section 1.8"
    },
    {
     "cell_type": "markdown",
     "metadata": {},
     "source": "###Exercice 1.1:\n* Write a Python program in a file named \"1plus1.py\" that assign the result of 1+1 to a variable and print that variable."
    },
    {
     "cell_type": "code",
     "collapsed": false,
     "input": "%%file 1plus1.py\n",
     "language": "python",
     "metadata": {},
     "outputs": []
    },
    {
     "cell_type": "markdown",
     "metadata": {},
     "source": "* Execute your program in the cell bellow"
    },
    {
     "cell_type": "code",
     "collapsed": false,
     "input": "%%bash\n\n",
     "language": "python",
     "metadata": {},
     "outputs": []
    },
    {
     "cell_type": "markdown",
     "metadata": {},
     "source": "###Exercise 1.2\n* Write a file named \"hello_world.py\" containing a Python programm that print \"Hello World!\""
    },
    {
     "cell_type": "code",
     "collapsed": false,
     "input": "%%file hello_world.py\n",
     "language": "python",
     "metadata": {},
     "outputs": []
    },
    {
     "cell_type": "markdown",
     "metadata": {},
     "source": "* Execute your program in the cell below"
    },
    {
     "cell_type": "code",
     "collapsed": false,
     "input": "%%bash\n\n",
     "language": "python",
     "metadata": {},
     "outputs": []
    },
    {
     "cell_type": "markdown",
     "metadata": {},
     "source": "###Exercise 1.10\nConsider the normal distribution\n$$f(x) = \\frac{1}{\\sqrt{2\\pi}s}\\exp\\left[{-\\frac12\\left(\\frac{x-m}{s}\\right)^2}\\right]$$\n\nWrite Python code to be executed in the cell below that evaluates the function $f$ for $m=0$, $s=2$, and $x=1$. Write it in a way that makes it easy to change the values of the parameters $s$, $m$ and the variable $x$. "
    },
    {
     "cell_type": "code",
     "collapsed": false,
     "input": "",
     "language": "python",
     "metadata": {},
     "outputs": []
    },
    {
     "cell_type": "markdown",
     "metadata": {},
     "source": "### Optional\n* Try all the exercises in section 1.8 using an editor to create the programm file, and execute it on the command line. \n"
    },
    {
     "cell_type": "markdown",
     "metadata": {},
     "source": "##Chapter 2: section 2.7\n"
    },
    {
     "cell_type": "markdown",
     "metadata": {},
     "source": "###Exercise 2.2 \nAn approximative formula to convert Fahrenheit degrees (F) to Celsius degrees (C) is $$C = (F-30)/2.$$\n\nWrite some Python code to be executed in the cell below that prints a table with two columns: the left column should contain the temperatures in Fahrenheit from 0 to 100 in steps of 10 (i.e. 0, 10, 20,..., 100) and the right column should contain the converted temperature in Celsius degrees.\nBoth columns should be formatted with 10 characters aligned to the left."
    },
    {
     "cell_type": "code",
     "collapsed": false,
     "input": "",
     "language": "python",
     "metadata": {},
     "outputs": []
    },
    {
     "cell_type": "markdown",
     "metadata": {},
     "source": "###Exercise 2.4 and 2.5 (variant)\nWrite some Python code to be executed in the next cell that generates all odd numbers from 1 to n, store them in a list using <code>append</code>, and then print the list.  \nSet n in the beginning of the program and use a while loop to compute the numbers and store them in the list. (Make sure that if n is an even number, the largest generated odd number is n-1.) \n"
    },
    {
     "cell_type": "code",
     "collapsed": false,
     "input": "",
     "language": "python",
     "metadata": {},
     "outputs": []
    },
    {
     "cell_type": "markdown",
     "metadata": {},
     "source": "###Exercise 2.5\nRedo the previous exercise using a list comprehension (with for and range).\n\n**Hint:** you may need to use the expression <code>n/2 + n%2</code> not to always have the correct range."
    },
    {
     "cell_type": "code",
     "collapsed": false,
     "input": "",
     "language": "python",
     "metadata": {},
     "outputs": []
    },
    {
     "cell_type": "markdown",
     "metadata": {},
     "source": "###Chapter 3: Read texbook chapter 3 and do the following exercises from section 3.5\n\n* sections 3.3 is optional (nice examples of bioinformatic there though)"
    },
    {
     "cell_type": "markdown",
     "metadata": {},
     "source": "###Exercise 3.1\nThe exact formula for converting Fahrenheit degrees to Celsius reads\n$$C = \\frac59(F \u221232).$$\n\n1. Write a function C(F) that takes a temperature F in Fahrenheit and returns the temperature in Celsius.\n\n1. Write a function F(C) that converts Celsius into Fahrenheit\n\n1. Verify your implementation by checking that c always equals C(F(c)) for any temperature for any temperature c\n\n**Hint:** For the last point, test an appropriate boolean expression for a range of values (say from 0 to 100), and print an error message the first time c is not equal to C(F(c)). \n\n**Caution:** you should be careful though with comparing real numbers with <code>==</code> (see Exercise 2.24)."
    },
    {
     "cell_type": "code",
     "collapsed": false,
     "input": "",
     "language": "python",
     "metadata": {},
     "outputs": []
    },
    {
     "cell_type": "markdown",
     "metadata": {},
     "source": "\n"
    },
    {
     "cell_type": "markdown",
     "metadata": {},
     "source": "###Exercise 3.12\n\nWrite various hello-world functions in the cell below. Write three functions:\n\n1. hw1, which takes no arguments and returns the string \u2019Hello, World!\u2019\n1. hw2, which takes no arguments and returns nothing, but the string \u2019Hello, World!\u2019 is printed in the terminal window\n1. hw3, which takes two string arguments and prints these two argu-ments separated by a comma."
    },
    {
     "cell_type": "code",
     "collapsed": false,
     "input": "",
     "language": "python",
     "metadata": {},
     "outputs": []
    },
    {
     "cell_type": "markdown",
     "metadata": {},
     "source": "Check that your \"Hello World!\" functions are correct by executing the next cell; the three functions should produce the exact same output:"
    },
    {
     "cell_type": "code",
     "collapsed": false,
     "input": "",
     "language": "python",
     "metadata": {},
     "outputs": []
    },
    {
     "cell_type": "markdown",
     "metadata": {},
     "source": "###Exercise 3.32\n\nBelow is a list of the nearest stars and some of their properties. The list elements are 4-tuples containing the name of the star, the distance from the sun in light years, the apparent brightness, and the luminosity. \n\nThe apparent brightness is how bright the stars look in our sky compared to the brightness of Sirius A. The luminosity, or the true brightness, is how bright the stars would look if all were at the same distance compared to the Sun. \n\nThe data is given in the cell below as a list of 4-tuples:"
    },
    {
     "cell_type": "code",
     "collapsed": false,
     "input": "## Format: (Name, Distance (light-years), Apparent Brightness, Luminosity)\ndata = [\n(\"Alpha Centauri A\", 4.3, 0.26, 1.56), \n(\"Alpha Centauri B\", 4.3, 0.077, 0.45), \n(\"Alpha Centauri C\", 4.2, 0.00001, 0.00006), \n(\"Barnard Star\", 6.0, 0.00004, 0.0005), \n(\"Wolf 359\", 7.7, 0.000001, 0.00002), \n(\"BD +36 degrees 2147\", 8.2, 0.0003, 0.006),\n(\"Luyten 726-8 A\", 8.4,  0.000003,  0.00006),\n(\"Luyten 726-8 B\", 8.4,  0.000002,  0.00004),\n(\"Sirius A\", 8.6,  1.00,      23.6),\n(\"Sirius B\", 8.6,  0.001,     0.003),\n(\"Ross 154\", 9.4,  0.00002,   0.0005),\n]",
     "language": "python",
     "metadata": {},
     "outputs": []
    },
    {
     "cell_type": "markdown",
     "metadata": {},
     "source": "The purpose of this exercise is to sort this list with respect to distance, apparent brightness, and luminosity.\n\nTo sort a list data, one can call <code>sorted(data)</code>, which returns the sorted list (cf. Table 2.1). However, in the present case each element is a 4-tuple, and the default sorting of such 4-tuples result in a list with the stars appearing in alphabetic order:"
    },
    {
     "cell_type": "code",
     "collapsed": false,
     "input": "sorted(data)",
     "language": "python",
     "metadata": {},
     "outputs": []
    },
    {
     "cell_type": "markdown",
     "metadata": {},
     "source": "We need to sort with respect to the 2nd, 3rd, or 4th element of each 4-tuple. \n\nIf a tailored sort mechanism is necessary, we can provide our own sort function as a second argument to sorted, as in <code>sorted(data, mysort)</code>. Such a tailored sort function mysort must take two arguments, say a and b, and returns \u22121 if a should become before b in the sorted sequence, 1 if b should become before a, and 0 if they are equal. In the present case, a and b are 4-tuples, so we need to make the comparison between the right elements in a and b. For example, to sort with respect to luminosity we write"
    },
    {
     "cell_type": "code",
     "collapsed": false,
     "input": "def mysort(a, b):\n    if a[3] < b[3]:\n        return -1\n    elif a[3] > b[3]:\n        return 1\n    else:\n        return 0\n\nsorted(data, mysort)",
     "language": "python",
     "metadata": {},
     "outputs": []
    },
    {
     "cell_type": "markdown",
     "metadata": {},
     "source": "Similarly as above, write in the cell below a two sort functions \n<code>distance_sort(a,b)</code> and <code>brightness_sort(a,b)</code> allowing\nus to sort the data table </code>data<code> by distance and brightness; then sort the data table according these criteria. "
    },
    {
     "cell_type": "code",
     "collapsed": false,
     "input": "\n",
     "language": "python",
     "metadata": {},
     "outputs": []
    },
    {
     "cell_type": "code",
     "collapsed": false,
     "input": "sorted(data, distance_sort)",
     "language": "python",
     "metadata": {},
     "outputs": []
    },
    {
     "cell_type": "code",
     "collapsed": false,
     "input": "sorted(data, luminosity_sort)",
     "language": "python",
     "metadata": {},
     "outputs": []
    }
   ],
   "metadata": {}
  }
 ]
}
